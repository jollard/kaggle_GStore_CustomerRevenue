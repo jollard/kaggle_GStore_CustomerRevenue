{
 "cells": [
  {
   "cell_type": "code",
   "execution_count": 7,
   "metadata": {
    "collapsed": true
   },
   "outputs": [],
   "source": [
    "import pandas as pd\n",
    "import json\n",
    "import os\n",
    "from pandas.io.json import json_normalize\n",
    "cwd = os.getcwd()"
   ]
  },
  {
   "cell_type": "code",
   "execution_count": 11,
   "metadata": {},
   "outputs": [
    {
     "name": "stdout",
     "output_type": "stream",
     "text": [
      "Loaded train_v2.csv. Shape: (10000, 25)\n"
     ]
    }
   ],
   "source": [
    "training_data_path = cwd[:-9]+'\\data\\\\raw\\\\train_v2.csv'\n",
    "JSON_COLUMNS = ['device', 'geoNetwork', 'totals', 'trafficSource']\n",
    "nrows = 10000\n",
    "df_train = pd.read_csv(training_data_path, \n",
    "                     converters={column: json.loads for column in JSON_COLUMNS}, \n",
    "                     dtype={'fullVisitorId': 'str'},\n",
    "                     nrows=nrows)\n",
    "for column in JSON_COLUMNS:\n",
    "    column_as_df = json_normalize(df_train[column])\n",
    "    column_as_df.columns = [f\"{column}.{subcolumn}\" for subcolumn in column_as_df.columns]\n",
    "    df_train = df_train.drop(column, axis=1).merge(column_as_df, right_index=True, left_index=True)\n",
    "print(f\"Loaded {os.path.basename(training_data_path)}. Shape: {df_train.shape}\")"
   ]
  },
  {
   "cell_type": "code",
   "execution_count": 29,
   "metadata": {},
   "outputs": [
    {
     "name": "stdout",
     "output_type": "stream",
     "text": [
      "0                                               (not set)\n",
      "1                                               (not set)\n",
      "2                                               (not set)\n",
      "3                                               (not set)\n",
      "4                                               (not set)\n",
      "5                                               (not set)\n",
      "6                                               (not set)\n",
      "7                                               (not set)\n",
      "8                                               (not set)\n",
      "9                                               (not set)\n",
      "10                                              (not set)\n",
      "11                                              (not set)\n",
      "12                                              (not set)\n",
      "13      \"google + redesign/Accessories March 17\" All U...\n",
      "14                                              (not set)\n",
      "15                                              (not set)\n",
      "16                                              (not set)\n",
      "17                                              (not set)\n",
      "18                                              (not set)\n",
      "19                                              (not set)\n",
      "20                                              (not set)\n",
      "21                                              (not set)\n",
      "22                                              (not set)\n",
      "23                                              (not set)\n",
      "24                                              (not set)\n",
      "25                                              (not set)\n",
      "26                                              (not set)\n",
      "27                                              (not set)\n",
      "28                                              (not set)\n",
      "29                                              (not set)\n",
      "                              ...                        \n",
      "971                                      Data Share Promo\n",
      "972     1000557 | GA | US | en | Hybrid | GDN Text+Ban...\n",
      "973                                             (not set)\n",
      "974     1000557 | GA | US | en | Hybrid | GDN Remarketing\n",
      "975                                             (not set)\n",
      "976                                      Data Share Promo\n",
      "977     1000557 | GA | US | en | Hybrid | GDN Remarketing\n",
      "978                                             (not set)\n",
      "979                                             (not set)\n",
      "980                                      Data Share Promo\n",
      "981                                             (not set)\n",
      "982     1000557 | GA | US | en | Hybrid | GDN Text+Ban...\n",
      "983     1000557 | GA | US | en | Hybrid | GDN Text+Ban...\n",
      "984     1000557 | GA | US | en | Hybrid | GDN Remarketing\n",
      "985     1000557 | GA | US | en | Hybrid | GDN Text+Ban...\n",
      "986                                      Data Share Promo\n",
      "987     1000557 | GA | US | en | Hybrid | GDN Text+Ban...\n",
      "988     1000557 | GA | US | en | Hybrid | GDN Text+Ban...\n",
      "989                                      Data Share Promo\n",
      "990                                             (not set)\n",
      "991                                             (not set)\n",
      "992                                             (not set)\n",
      "993                                             (not set)\n",
      "994                                             (not set)\n",
      "995                                             (not set)\n",
      "996                                             (not set)\n",
      "997     1000557 | GA | US | en | Hybrid | GDN Remarketing\n",
      "998                                      Data Share Promo\n",
      "999                                             (not set)\n",
      "1000                                     Data Share Promo\n",
      "Name: trafficSource.campaign, Length: 1001, dtype: object\n"
     ]
    }
   ],
   "source": [
    "print(df_train.loc[0:1000,'trafficSource.campaign'])"
   ]
  },
  {
   "cell_type": "code",
   "execution_count": 23,
   "metadata": {},
   "outputs": [
    {
     "name": "stdout",
     "output_type": "stream",
     "text": [
      "<class 'pandas.core.frame.DataFrame'>\n",
      "RangeIndex: 10000 entries, 0 to 9999\n",
      "Data columns (total 25 columns):\n",
      "channelGrouping                                      10000 non-null object\n",
      "customDimensions                                     10000 non-null object\n",
      "date                                                 10000 non-null int64\n",
      "fullVisitorId                                        10000 non-null object\n",
      "hits                                                 10000 non-null object\n",
      "socialEngagementType                                 10000 non-null object\n",
      "visitId                                              10000 non-null int64\n",
      "visitNumber                                          10000 non-null int64\n",
      "visitStartTime                                       10000 non-null int64\n",
      "device.device                                        10000 non-null object\n",
      "geoNetwork.geoNetwork                                10000 non-null object\n",
      "totals.totals                                        10000 non-null object\n",
      "trafficSource.adContent                              306 non-null object\n",
      "trafficSource.adwordsClickInfo.adNetworkType         421 non-null object\n",
      "trafficSource.adwordsClickInfo.criteriaParameters    10000 non-null object\n",
      "trafficSource.adwordsClickInfo.gclId                 422 non-null object\n",
      "trafficSource.adwordsClickInfo.isVideoAd             421 non-null object\n",
      "trafficSource.adwordsClickInfo.page                  421 non-null object\n",
      "trafficSource.adwordsClickInfo.slot                  421 non-null object\n",
      "trafficSource.campaign                               10000 non-null object\n",
      "trafficSource.isTrueDirect                           3160 non-null object\n",
      "trafficSource.keyword                                4332 non-null object\n",
      "trafficSource.medium                                 10000 non-null object\n",
      "trafficSource.referralPath                           3276 non-null object\n",
      "trafficSource.source                                 10000 non-null object\n",
      "dtypes: int64(4), object(21)\n",
      "memory usage: 1.9+ MB\n"
     ]
    }
   ],
   "source": [
    "df_train.info()"
   ]
  },
  {
   "cell_type": "code",
   "execution_count": null,
   "metadata": {
    "collapsed": true
   },
   "outputs": [],
   "source": []
  }
 ],
 "metadata": {
  "kernelspec": {
   "display_name": "Python 3",
   "language": "python",
   "name": "python3"
  },
  "language_info": {
   "codemirror_mode": {
    "name": "ipython",
    "version": 3
   },
   "file_extension": ".py",
   "mimetype": "text/x-python",
   "name": "python",
   "nbconvert_exporter": "python",
   "pygments_lexer": "ipython3",
   "version": "3.6.1"
  }
 },
 "nbformat": 4,
 "nbformat_minor": 2
}
